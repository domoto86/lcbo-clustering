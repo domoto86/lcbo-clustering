{
 "cells": [
  {
   "cell_type": "markdown",
   "metadata": {
    "colab_type": "text",
    "id": "view-in-github"
   },
   "source": [
    "<a href=\"https://colab.research.google.com/github/domoto86/lcbo-clustering/blob/main/LCBO_Clustering.ipynb\" target=\"_parent\"><img src=\"https://colab.research.google.com/assets/colab-badge.svg\" alt=\"Open In Colab\"/></a>"
   ]
  },
  {
   "cell_type": "code",
   "execution_count": 53,
   "metadata": {
    "id": "HMU6RTWddlnl"
   },
   "outputs": [],
   "source": [
    "import pandas as pd\n",
    "from sklearn.cluster import KMeans\n",
    "from sklearn.preprocessing import StandardScaler"
   ]
  },
  {
   "cell_type": "code",
   "execution_count": 54,
   "metadata": {
    "id": "kVmrnIrUezC4"
   },
   "outputs": [],
   "source": [
    "main_data_df = pd.read_csv('lcbo_wines.csv')"
   ]
  },
  {
   "cell_type": "code",
   "execution_count": 55,
   "metadata": {
    "colab": {
     "base_uri": "https://localhost:8080/",
     "height": 354
    },
    "id": "qe_thhsMfG3J",
    "outputId": "6ad7e84d-bc93-47e4-9fd4-85c96baa4bfa"
   },
   "outputs": [
    {
     "data": {
      "text/html": [
       "<div>\n",
       "<style scoped>\n",
       "    .dataframe tbody tr th:only-of-type {\n",
       "        vertical-align: middle;\n",
       "    }\n",
       "\n",
       "    .dataframe tbody tr th {\n",
       "        vertical-align: top;\n",
       "    }\n",
       "\n",
       "    .dataframe thead th {\n",
       "        text-align: right;\n",
       "    }\n",
       "</style>\n",
       "<table border=\"1\" class=\"dataframe\">\n",
       "  <thead>\n",
       "    <tr style=\"text-align: right;\">\n",
       "      <th></th>\n",
       "      <th>Name</th>\n",
       "      <th>Regular Price</th>\n",
       "      <th>Sale Price</th>\n",
       "      <th>Rating</th>\n",
       "      <th>Reviews</th>\n",
       "      <th>Size</th>\n",
       "      <th>Description</th>\n",
       "      <th>Category</th>\n",
       "      <th>Image</th>\n",
       "      <th>Alcohol/Vol</th>\n",
       "      <th>Made In</th>\n",
       "      <th>Sugar Content</th>\n",
       "      <th>Varietal</th>\n",
       "      <th>By</th>\n",
       "      <th>Release Date</th>\n",
       "      <th>Lat</th>\n",
       "      <th>Lon</th>\n",
       "      <th>Savings</th>\n",
       "    </tr>\n",
       "  </thead>\n",
       "  <tbody>\n",
       "    <tr>\n",
       "      <th>0</th>\n",
       "      <td>Paul Mas Cabernet Sauvignon</td>\n",
       "      <td>14.95</td>\n",
       "      <td>12.95</td>\n",
       "      <td>NaN</td>\n",
       "      <td>(0)</td>\n",
       "      <td>750 ml bottle</td>\n",
       "      <td>Paul Mas vineyards are in the Languedoc region...</td>\n",
       "      <td>Red Wine</td>\n",
       "      <td>https://aem.lcbo.com/content/dam/lcbo/products...</td>\n",
       "      <td>0.135</td>\n",
       "      <td>Languedoc,   France</td>\n",
       "      <td>5 g/L</td>\n",
       "      <td>Cabernet Sauvignon</td>\n",
       "      <td>NaN</td>\n",
       "      <td>NaN</td>\n",
       "      <td>47.218868</td>\n",
       "      <td>5.965036</td>\n",
       "      <td>2.0</td>\n",
       "    </tr>\n",
       "    <tr>\n",
       "      <th>1</th>\n",
       "      <td>Blu Giovello Prosecco</td>\n",
       "      <td>18.00</td>\n",
       "      <td>15.50</td>\n",
       "      <td>4.4</td>\n",
       "      <td>(9)</td>\n",
       "      <td>750 ml bottle</td>\n",
       "      <td>The prosecco in the distinctive blue bottle. I...</td>\n",
       "      <td>White Sparkling Wine</td>\n",
       "      <td>https://aem.lcbo.com/content/dam/lcbo/products...</td>\n",
       "      <td>0.110</td>\n",
       "      <td>Italy</td>\n",
       "      <td>14 g/L</td>\n",
       "      <td>Prosecco</td>\n",
       "      <td>Blu Giovello</td>\n",
       "      <td>NaN</td>\n",
       "      <td>42.638426</td>\n",
       "      <td>12.674297</td>\n",
       "      <td>2.5</td>\n",
       "    </tr>\n",
       "    <tr>\n",
       "      <th>2</th>\n",
       "      <td>Aveleda Vinho Verde</td>\n",
       "      <td>15.00</td>\n",
       "      <td>14.00</td>\n",
       "      <td>4.8</td>\n",
       "      <td>(12)</td>\n",
       "      <td>750 ml bottle</td>\n",
       "      <td>Aveleda has been a family-owned business since...</td>\n",
       "      <td>White Wine</td>\n",
       "      <td>https://aem.lcbo.com/content/dam/lcbo/products...</td>\n",
       "      <td>0.095</td>\n",
       "      <td>Vinho Verde,   Portugal</td>\n",
       "      <td>14 g/L</td>\n",
       "      <td>Vinho Verde</td>\n",
       "      <td>Aveleda</td>\n",
       "      <td>NaN</td>\n",
       "      <td>41.067500</td>\n",
       "      <td>-8.237269</td>\n",
       "      <td>1.0</td>\n",
       "    </tr>\n",
       "    <tr>\n",
       "      <th>3</th>\n",
       "      <td>Jacob's Creek Moscato Rosé</td>\n",
       "      <td>16.00</td>\n",
       "      <td>14.00</td>\n",
       "      <td>4.7</td>\n",
       "      <td>(17)</td>\n",
       "      <td>750 ml bottle</td>\n",
       "      <td>Jacob's Creek Moscato is a fresh and fragrant,...</td>\n",
       "      <td>Rose Wine</td>\n",
       "      <td>https://aem.lcbo.com/content/dam/lcbo/products...</td>\n",
       "      <td>0.075</td>\n",
       "      <td>Australia</td>\n",
       "      <td>70 g/L</td>\n",
       "      <td>Rose Wines</td>\n",
       "      <td>Jacob's Creek</td>\n",
       "      <td>NaN</td>\n",
       "      <td>-24.776109</td>\n",
       "      <td>134.755000</td>\n",
       "      <td>2.0</td>\n",
       "    </tr>\n",
       "    <tr>\n",
       "      <th>4</th>\n",
       "      <td>Sandbanks Summer Rosé VQA</td>\n",
       "      <td>14.95</td>\n",
       "      <td>12.95</td>\n",
       "      <td>NaN</td>\n",
       "      <td>(0)</td>\n",
       "      <td>750 ml bottle</td>\n",
       "      <td>Established in Prince Edward County in 2001, S...</td>\n",
       "      <td>Rose Wine</td>\n",
       "      <td>https://aem.lcbo.com/content/dam/lcbo/products...</td>\n",
       "      <td>0.116</td>\n",
       "      <td>Ontario,   Canada</td>\n",
       "      <td>27 g/L</td>\n",
       "      <td>Rosé</td>\n",
       "      <td>Sandbanks</td>\n",
       "      <td>NaN</td>\n",
       "      <td>50.000678</td>\n",
       "      <td>-86.000977</td>\n",
       "      <td>2.0</td>\n",
       "    </tr>\n",
       "  </tbody>\n",
       "</table>\n",
       "</div>"
      ],
      "text/plain": [
       "                           Name  Regular Price  Sale Price  Rating Reviews  \\\n",
       "0   Paul Mas Cabernet Sauvignon          14.95       12.95     NaN     (0)   \n",
       "1         Blu Giovello Prosecco          18.00       15.50     4.4     (9)   \n",
       "2           Aveleda Vinho Verde          15.00       14.00     4.8    (12)   \n",
       "3    Jacob's Creek Moscato Rosé          16.00       14.00     4.7    (17)   \n",
       "4     Sandbanks Summer Rosé VQA          14.95       12.95     NaN     (0)   \n",
       "\n",
       "               Size                                        Description  \\\n",
       "0    750 ml bottle   Paul Mas vineyards are in the Languedoc region...   \n",
       "1    750 ml bottle   The prosecco in the distinctive blue bottle. I...   \n",
       "2    750 ml bottle   Aveleda has been a family-owned business since...   \n",
       "3    750 ml bottle   Jacob's Creek Moscato is a fresh and fragrant,...   \n",
       "4    750 ml bottle   Established in Prince Edward County in 2001, S...   \n",
       "\n",
       "               Category                                              Image  \\\n",
       "0              Red Wine  https://aem.lcbo.com/content/dam/lcbo/products...   \n",
       "1  White Sparkling Wine  https://aem.lcbo.com/content/dam/lcbo/products...   \n",
       "2            White Wine  https://aem.lcbo.com/content/dam/lcbo/products...   \n",
       "3             Rose Wine  https://aem.lcbo.com/content/dam/lcbo/products...   \n",
       "4             Rose Wine  https://aem.lcbo.com/content/dam/lcbo/products...   \n",
       "\n",
       "   Alcohol/Vol                    Made In Sugar Content            Varietal  \\\n",
       "0        0.135       Languedoc,   France          5 g/L  Cabernet Sauvignon   \n",
       "1        0.110                     Italy         14 g/L            Prosecco   \n",
       "2        0.095   Vinho Verde,   Portugal         14 g/L         Vinho Verde   \n",
       "3        0.075                 Australia         70 g/L          Rose Wines   \n",
       "4        0.116         Ontario,   Canada         27 g/L                Rosé   \n",
       "\n",
       "              By Release Date        Lat         Lon  Savings  \n",
       "0            NaN          NaN  47.218868    5.965036      2.0  \n",
       "1   Blu Giovello          NaN  42.638426   12.674297      2.5  \n",
       "2        Aveleda          NaN  41.067500   -8.237269      1.0  \n",
       "3  Jacob's Creek          NaN -24.776109  134.755000      2.0  \n",
       "4      Sandbanks          NaN  50.000678  -86.000977      2.0  "
      ]
     },
     "execution_count": 55,
     "metadata": {},
     "output_type": "execute_result"
    }
   ],
   "source": [
    "main_data_df.head()"
   ]
  },
  {
   "cell_type": "code",
   "execution_count": 56,
   "metadata": {
    "colab": {
     "base_uri": "https://localhost:8080/"
    },
    "id": "qgfyvLZ5f1mp",
    "outputId": "2c4faab4-a30f-4d56-ca98-1a041c62ee95"
   },
   "outputs": [
    {
     "data": {
      "text/plain": [
       "Name              object\n",
       "Regular Price    float64\n",
       "Sale Price       float64\n",
       "Rating           float64\n",
       "Reviews           object\n",
       "Size              object\n",
       "Description       object\n",
       "Category          object\n",
       "Image             object\n",
       "Alcohol/Vol      float64\n",
       "Made In           object\n",
       "Sugar Content     object\n",
       "Varietal          object\n",
       "By                object\n",
       "Release Date      object\n",
       "Lat              float64\n",
       "Lon              float64\n",
       "Savings          float64\n",
       "dtype: object"
      ]
     },
     "execution_count": 56,
     "metadata": {},
     "output_type": "execute_result"
    }
   ],
   "source": [
    "main_data_df.dtypes\n"
   ]
  },
  {
   "cell_type": "code",
   "execution_count": 57,
   "metadata": {
    "id": "0T28a1FZfJ4_"
   },
   "outputs": [],
   "source": [
    "main_data_df['Sugar Content (g/L)'] = main_data_df['Sugar Content'].str.replace('g/L', '')\n",
    "# main_data_df['Alcohol/Vol'] = main_data_df['Alcohol/Vol'].str.replace('%', '')\n",
    "main_data_df = main_data_df.fillna(0)\n",
    "main_data_df = main_data_df.drop(['Sugar Content'], axis = 1)"
   ]
  },
  {
   "cell_type": "code",
   "execution_count": 58,
   "metadata": {
    "id": "fxtngnA1kWNo"
   },
   "outputs": [],
   "source": [
    "main_data_df['Sugar Content (g/L)'] = main_data_df['Sugar Content (g/L)'].astype(float)\n",
    "main_data_df['Alcohol/Vol'] = main_data_df['Alcohol/Vol']  * 100\n",
    "main_data_df['Regular Price'] = main_data_df['Regular Price'].astype(float)\n",
    "main_data_df['Sale Price'] = main_data_df['Sale Price'].astype(float)"
   ]
  },
  {
   "cell_type": "code",
   "execution_count": 59,
   "metadata": {
    "colab": {
     "base_uri": "https://localhost:8080/"
    },
    "id": "XAeeLIn_kjvE",
    "outputId": "dae1a637-dfca-467e-c7c5-7bfb5dd1ad73"
   },
   "outputs": [
    {
     "name": "stdout",
     "output_type": "stream",
     "text": [
      "<class 'pandas.core.frame.DataFrame'>\n",
      "RangeIndex: 50 entries, 0 to 49\n",
      "Data columns (total 18 columns):\n",
      " #   Column               Non-Null Count  Dtype  \n",
      "---  ------               --------------  -----  \n",
      " 0   Name                 50 non-null     object \n",
      " 1   Regular Price        50 non-null     float64\n",
      " 2   Sale Price           50 non-null     float64\n",
      " 3   Rating               50 non-null     float64\n",
      " 4   Reviews              50 non-null     object \n",
      " 5   Size                 50 non-null     object \n",
      " 6   Description          50 non-null     object \n",
      " 7   Category             50 non-null     object \n",
      " 8   Image                50 non-null     object \n",
      " 9   Alcohol/Vol          50 non-null     float64\n",
      " 10  Made In              50 non-null     object \n",
      " 11  Varietal             50 non-null     object \n",
      " 12  By                   50 non-null     object \n",
      " 13  Release Date         50 non-null     object \n",
      " 14  Lat                  50 non-null     float64\n",
      " 15  Lon                  50 non-null     float64\n",
      " 16  Savings              50 non-null     float64\n",
      " 17  Sugar Content (g/L)  50 non-null     float64\n",
      "dtypes: float64(8), object(10)\n",
      "memory usage: 7.2+ KB\n"
     ]
    }
   ],
   "source": [
    "main_data_df.info()"
   ]
  },
  {
   "cell_type": "code",
   "execution_count": 60,
   "metadata": {
    "colab": {
     "base_uri": "https://localhost:8080/",
     "height": 372
    },
    "id": "s24EJ90bgPcX",
    "outputId": "77cc2642-9483-4fac-e19a-cdd027f8ec64"
   },
   "outputs": [
    {
     "data": {
      "text/html": [
       "<div>\n",
       "<style scoped>\n",
       "    .dataframe tbody tr th:only-of-type {\n",
       "        vertical-align: middle;\n",
       "    }\n",
       "\n",
       "    .dataframe tbody tr th {\n",
       "        vertical-align: top;\n",
       "    }\n",
       "\n",
       "    .dataframe thead th {\n",
       "        text-align: right;\n",
       "    }\n",
       "</style>\n",
       "<table border=\"1\" class=\"dataframe\">\n",
       "  <thead>\n",
       "    <tr style=\"text-align: right;\">\n",
       "      <th></th>\n",
       "      <th>Name</th>\n",
       "      <th>Regular Price</th>\n",
       "      <th>Sale Price</th>\n",
       "      <th>Rating</th>\n",
       "      <th>Reviews</th>\n",
       "      <th>Size</th>\n",
       "      <th>Description</th>\n",
       "      <th>Category</th>\n",
       "      <th>Image</th>\n",
       "      <th>Alcohol/Vol</th>\n",
       "      <th>Made In</th>\n",
       "      <th>Varietal</th>\n",
       "      <th>By</th>\n",
       "      <th>Release Date</th>\n",
       "      <th>Lat</th>\n",
       "      <th>Lon</th>\n",
       "      <th>Savings</th>\n",
       "      <th>Sugar Content (g/L)</th>\n",
       "    </tr>\n",
       "  </thead>\n",
       "  <tbody>\n",
       "    <tr>\n",
       "      <th>0</th>\n",
       "      <td>Paul Mas Cabernet Sauvignon</td>\n",
       "      <td>14.95</td>\n",
       "      <td>12.95</td>\n",
       "      <td>0.0</td>\n",
       "      <td>(0)</td>\n",
       "      <td>750 ml bottle</td>\n",
       "      <td>Paul Mas vineyards are in the Languedoc region...</td>\n",
       "      <td>Red Wine</td>\n",
       "      <td>https://aem.lcbo.com/content/dam/lcbo/products...</td>\n",
       "      <td>13.5</td>\n",
       "      <td>Languedoc,   France</td>\n",
       "      <td>Cabernet Sauvignon</td>\n",
       "      <td>0</td>\n",
       "      <td>0</td>\n",
       "      <td>47.218868</td>\n",
       "      <td>5.965036</td>\n",
       "      <td>2.0</td>\n",
       "      <td>5.0</td>\n",
       "    </tr>\n",
       "    <tr>\n",
       "      <th>1</th>\n",
       "      <td>Blu Giovello Prosecco</td>\n",
       "      <td>18.00</td>\n",
       "      <td>15.50</td>\n",
       "      <td>4.4</td>\n",
       "      <td>(9)</td>\n",
       "      <td>750 ml bottle</td>\n",
       "      <td>The prosecco in the distinctive blue bottle. I...</td>\n",
       "      <td>White Sparkling Wine</td>\n",
       "      <td>https://aem.lcbo.com/content/dam/lcbo/products...</td>\n",
       "      <td>11.0</td>\n",
       "      <td>Italy</td>\n",
       "      <td>Prosecco</td>\n",
       "      <td>Blu Giovello</td>\n",
       "      <td>0</td>\n",
       "      <td>42.638426</td>\n",
       "      <td>12.674297</td>\n",
       "      <td>2.5</td>\n",
       "      <td>14.0</td>\n",
       "    </tr>\n",
       "    <tr>\n",
       "      <th>2</th>\n",
       "      <td>Aveleda Vinho Verde</td>\n",
       "      <td>15.00</td>\n",
       "      <td>14.00</td>\n",
       "      <td>4.8</td>\n",
       "      <td>(12)</td>\n",
       "      <td>750 ml bottle</td>\n",
       "      <td>Aveleda has been a family-owned business since...</td>\n",
       "      <td>White Wine</td>\n",
       "      <td>https://aem.lcbo.com/content/dam/lcbo/products...</td>\n",
       "      <td>9.5</td>\n",
       "      <td>Vinho Verde,   Portugal</td>\n",
       "      <td>Vinho Verde</td>\n",
       "      <td>Aveleda</td>\n",
       "      <td>0</td>\n",
       "      <td>41.067500</td>\n",
       "      <td>-8.237269</td>\n",
       "      <td>1.0</td>\n",
       "      <td>14.0</td>\n",
       "    </tr>\n",
       "    <tr>\n",
       "      <th>3</th>\n",
       "      <td>Jacob's Creek Moscato Rosé</td>\n",
       "      <td>16.00</td>\n",
       "      <td>14.00</td>\n",
       "      <td>4.7</td>\n",
       "      <td>(17)</td>\n",
       "      <td>750 ml bottle</td>\n",
       "      <td>Jacob's Creek Moscato is a fresh and fragrant,...</td>\n",
       "      <td>Rose Wine</td>\n",
       "      <td>https://aem.lcbo.com/content/dam/lcbo/products...</td>\n",
       "      <td>7.5</td>\n",
       "      <td>Australia</td>\n",
       "      <td>Rose Wines</td>\n",
       "      <td>Jacob's Creek</td>\n",
       "      <td>0</td>\n",
       "      <td>-24.776109</td>\n",
       "      <td>134.755000</td>\n",
       "      <td>2.0</td>\n",
       "      <td>70.0</td>\n",
       "    </tr>\n",
       "    <tr>\n",
       "      <th>4</th>\n",
       "      <td>Sandbanks Summer Rosé VQA</td>\n",
       "      <td>14.95</td>\n",
       "      <td>12.95</td>\n",
       "      <td>0.0</td>\n",
       "      <td>(0)</td>\n",
       "      <td>750 ml bottle</td>\n",
       "      <td>Established in Prince Edward County in 2001, S...</td>\n",
       "      <td>Rose Wine</td>\n",
       "      <td>https://aem.lcbo.com/content/dam/lcbo/products...</td>\n",
       "      <td>11.6</td>\n",
       "      <td>Ontario,   Canada</td>\n",
       "      <td>Rosé</td>\n",
       "      <td>Sandbanks</td>\n",
       "      <td>0</td>\n",
       "      <td>50.000678</td>\n",
       "      <td>-86.000977</td>\n",
       "      <td>2.0</td>\n",
       "      <td>27.0</td>\n",
       "    </tr>\n",
       "  </tbody>\n",
       "</table>\n",
       "</div>"
      ],
      "text/plain": [
       "                           Name  Regular Price  Sale Price  Rating Reviews  \\\n",
       "0   Paul Mas Cabernet Sauvignon          14.95       12.95     0.0     (0)   \n",
       "1         Blu Giovello Prosecco          18.00       15.50     4.4     (9)   \n",
       "2           Aveleda Vinho Verde          15.00       14.00     4.8    (12)   \n",
       "3    Jacob's Creek Moscato Rosé          16.00       14.00     4.7    (17)   \n",
       "4     Sandbanks Summer Rosé VQA          14.95       12.95     0.0     (0)   \n",
       "\n",
       "               Size                                        Description  \\\n",
       "0    750 ml bottle   Paul Mas vineyards are in the Languedoc region...   \n",
       "1    750 ml bottle   The prosecco in the distinctive blue bottle. I...   \n",
       "2    750 ml bottle   Aveleda has been a family-owned business since...   \n",
       "3    750 ml bottle   Jacob's Creek Moscato is a fresh and fragrant,...   \n",
       "4    750 ml bottle   Established in Prince Edward County in 2001, S...   \n",
       "\n",
       "               Category                                              Image  \\\n",
       "0              Red Wine  https://aem.lcbo.com/content/dam/lcbo/products...   \n",
       "1  White Sparkling Wine  https://aem.lcbo.com/content/dam/lcbo/products...   \n",
       "2            White Wine  https://aem.lcbo.com/content/dam/lcbo/products...   \n",
       "3             Rose Wine  https://aem.lcbo.com/content/dam/lcbo/products...   \n",
       "4             Rose Wine  https://aem.lcbo.com/content/dam/lcbo/products...   \n",
       "\n",
       "   Alcohol/Vol                    Made In            Varietal             By  \\\n",
       "0         13.5       Languedoc,   France   Cabernet Sauvignon              0   \n",
       "1         11.0                     Italy             Prosecco   Blu Giovello   \n",
       "2          9.5   Vinho Verde,   Portugal          Vinho Verde        Aveleda   \n",
       "3          7.5                 Australia           Rose Wines  Jacob's Creek   \n",
       "4         11.6         Ontario,   Canada                 Rosé      Sandbanks   \n",
       "\n",
       "  Release Date        Lat         Lon  Savings  Sugar Content (g/L)  \n",
       "0            0  47.218868    5.965036      2.0                  5.0  \n",
       "1            0  42.638426   12.674297      2.5                 14.0  \n",
       "2            0  41.067500   -8.237269      1.0                 14.0  \n",
       "3            0 -24.776109  134.755000      2.0                 70.0  \n",
       "4            0  50.000678  -86.000977      2.0                 27.0  "
      ]
     },
     "execution_count": 60,
     "metadata": {},
     "output_type": "execute_result"
    }
   ],
   "source": [
    "main_data_df.head()"
   ]
  },
  {
   "cell_type": "code",
   "execution_count": 61,
   "metadata": {
    "colab": {
     "base_uri": "https://localhost:8080/"
    },
    "id": "Z4fPQFrueerE",
    "outputId": "c587892a-34c2-490e-866c-f9af2450638f"
   },
   "outputs": [
    {
     "data": {
      "text/plain": [
       "Red Wine                     25\n",
       "White Wine                   15\n",
       "Rose Wine                     6\n",
       "White Sparkling Wine          3\n",
       "Rosé & Red Sparkling Wine     1\n",
       "Name: Category, dtype: int64"
      ]
     },
     "execution_count": 61,
     "metadata": {},
     "output_type": "execute_result"
    }
   ],
   "source": [
    "main_data_df['Category'].value_counts()"
   ]
  },
  {
   "cell_type": "markdown",
   "metadata": {
    "id": "7gMZyHSQwcmh"
   },
   "source": []
  },
  {
   "cell_type": "code",
   "execution_count": 62,
   "metadata": {
    "id": "mHB46lzcwfIX"
   },
   "outputs": [],
   "source": [
    "main_data_df['Category']=main_data_df['Category'].astype('category').cat.codes"
   ]
  },
  {
   "cell_type": "code",
   "execution_count": 63,
   "metadata": {
    "colab": {
     "base_uri": "https://localhost:8080/",
     "height": 208
    },
    "id": "A3dXjBUew7ip",
    "outputId": "eb2568f9-7164-47f1-aed0-fd092ecfdbe1"
   },
   "outputs": [
    {
     "data": {
      "text/html": [
       "<div>\n",
       "<style scoped>\n",
       "    .dataframe tbody tr th:only-of-type {\n",
       "        vertical-align: middle;\n",
       "    }\n",
       "\n",
       "    .dataframe tbody tr th {\n",
       "        vertical-align: top;\n",
       "    }\n",
       "\n",
       "    .dataframe thead th {\n",
       "        text-align: right;\n",
       "    }\n",
       "</style>\n",
       "<table border=\"1\" class=\"dataframe\">\n",
       "  <thead>\n",
       "    <tr style=\"text-align: right;\">\n",
       "      <th></th>\n",
       "      <th>Name</th>\n",
       "      <th>Regular Price</th>\n",
       "      <th>Sale Price</th>\n",
       "      <th>Rating</th>\n",
       "      <th>Reviews</th>\n",
       "      <th>Size</th>\n",
       "      <th>Description</th>\n",
       "      <th>Category</th>\n",
       "      <th>Image</th>\n",
       "      <th>Alcohol/Vol</th>\n",
       "      <th>Made In</th>\n",
       "      <th>Varietal</th>\n",
       "      <th>By</th>\n",
       "      <th>Release Date</th>\n",
       "      <th>Lat</th>\n",
       "      <th>Lon</th>\n",
       "      <th>Savings</th>\n",
       "      <th>Sugar Content (g/L)</th>\n",
       "    </tr>\n",
       "  </thead>\n",
       "  <tbody>\n",
       "    <tr>\n",
       "      <th>0</th>\n",
       "      <td>Paul Mas Cabernet Sauvignon</td>\n",
       "      <td>14.95</td>\n",
       "      <td>12.95</td>\n",
       "      <td>0.0</td>\n",
       "      <td>(0)</td>\n",
       "      <td>750 ml bottle</td>\n",
       "      <td>Paul Mas vineyards are in the Languedoc region...</td>\n",
       "      <td>0</td>\n",
       "      <td>https://aem.lcbo.com/content/dam/lcbo/products...</td>\n",
       "      <td>13.5</td>\n",
       "      <td>Languedoc,   France</td>\n",
       "      <td>Cabernet Sauvignon</td>\n",
       "      <td>0</td>\n",
       "      <td>0</td>\n",
       "      <td>47.218868</td>\n",
       "      <td>5.965036</td>\n",
       "      <td>2.0</td>\n",
       "      <td>5.0</td>\n",
       "    </tr>\n",
       "    <tr>\n",
       "      <th>1</th>\n",
       "      <td>Blu Giovello Prosecco</td>\n",
       "      <td>18.00</td>\n",
       "      <td>15.50</td>\n",
       "      <td>4.4</td>\n",
       "      <td>(9)</td>\n",
       "      <td>750 ml bottle</td>\n",
       "      <td>The prosecco in the distinctive blue bottle. I...</td>\n",
       "      <td>3</td>\n",
       "      <td>https://aem.lcbo.com/content/dam/lcbo/products...</td>\n",
       "      <td>11.0</td>\n",
       "      <td>Italy</td>\n",
       "      <td>Prosecco</td>\n",
       "      <td>Blu Giovello</td>\n",
       "      <td>0</td>\n",
       "      <td>42.638426</td>\n",
       "      <td>12.674297</td>\n",
       "      <td>2.5</td>\n",
       "      <td>14.0</td>\n",
       "    </tr>\n",
       "  </tbody>\n",
       "</table>\n",
       "</div>"
      ],
      "text/plain": [
       "                           Name  Regular Price  Sale Price  Rating Reviews  \\\n",
       "0   Paul Mas Cabernet Sauvignon          14.95       12.95     0.0     (0)   \n",
       "1         Blu Giovello Prosecco          18.00       15.50     4.4     (9)   \n",
       "\n",
       "               Size                                        Description  \\\n",
       "0    750 ml bottle   Paul Mas vineyards are in the Languedoc region...   \n",
       "1    750 ml bottle   The prosecco in the distinctive blue bottle. I...   \n",
       "\n",
       "   Category                                              Image  Alcohol/Vol  \\\n",
       "0         0  https://aem.lcbo.com/content/dam/lcbo/products...         13.5   \n",
       "1         3  https://aem.lcbo.com/content/dam/lcbo/products...         11.0   \n",
       "\n",
       "                 Made In            Varietal            By Release Date  \\\n",
       "0   Languedoc,   France   Cabernet Sauvignon             0            0   \n",
       "1                 Italy             Prosecco  Blu Giovello            0   \n",
       "\n",
       "         Lat        Lon  Savings  Sugar Content (g/L)  \n",
       "0  47.218868   5.965036      2.0                  5.0  \n",
       "1  42.638426  12.674297      2.5                 14.0  "
      ]
     },
     "execution_count": 63,
     "metadata": {},
     "output_type": "execute_result"
    }
   ],
   "source": [
    "main_data_df.head(2)"
   ]
  },
  {
   "cell_type": "code",
   "execution_count": 65,
   "metadata": {
    "colab": {
     "base_uri": "https://localhost:8080/"
    },
    "id": "7LnddomsgREx",
    "outputId": "41798569-a124-44ee-ef39-9f40cd666398"
   },
   "outputs": [
    {
     "data": {
      "text/plain": [
       "array([[-0.56634177, -0.57126626,  0.45179077, -0.32165986, -0.86516854],\n",
       "       [-0.25985802, -0.30024692, -1.06225336,  0.57738944,  0.82022472],\n",
       "       [-0.56131745, -0.45967006, -1.97067983,  0.57738944,  1.38202247],\n",
       "       [-0.46083097, -0.45967006, -3.18191513,  6.17147403, -0.30337079],\n",
       "       [-0.56634177, -0.57126626, -0.69888277,  1.87601622, -0.30337079],\n",
       "       [-0.71707149, -0.6244073 , -0.15382688, -0.5214486 , -0.86516854],\n",
       "       [-0.0639094 , -0.03985579,  0.45179077, -0.02197676, -0.86516854],\n",
       "       [-0.35029585, -0.44904185,  0.14898194, -0.32165986,  1.38202247],\n",
       "       [-0.66682825, -0.67754835, -0.45663571, -0.2217655 , -0.30337079],\n",
       "       [ 0.43852298,  0.49155469,  1.05740842, -0.32165986, -0.86516854],\n",
       "       [-0.56634177, -0.57126626,  0.45179077, -0.2217655 ,  1.38202247],\n",
       "       [-0.56634177, -0.57126626,  0.14898194, -0.62134297, -0.30337079],\n",
       "       [-0.46083097, -0.45967006,  0.14898194, -0.62134297,  1.38202247],\n",
       "       [ 0.7399824 ,  0.70411887,  0.63347606, -0.02197676, -0.86516854],\n",
       "       [-0.25985802, -0.24710587,  0.63347606, -0.2217655 , -0.86516854],\n",
       "       [-0.30005261, -0.28961871,  0.14898194, -0.62134297, -0.86516854],\n",
       "       [ 0.0616987 , -0.01328526,  0.45179077, -0.2217655 , -0.86516854],\n",
       "       [-0.06893372, -0.04516989,  0.45179077, -0.12187113,  1.38202247],\n",
       "       [ 0.53900945,  0.49155469,  0.69403783, -0.42155423, -0.86516854],\n",
       "       [ 0.13706355,  0.06642631, -0.15382688, -0.32165986,  1.38202247],\n",
       "       [-0.47590395, -0.47561237,  0.45179077,  0.87707255, -0.86516854],\n",
       "       [-0.8678012 , -0.78383044,  0.45179077, -0.5214486 , -0.86516854],\n",
       "       [-0.55629313, -0.5128111 , -0.15382688, -0.42155423,  1.38202247],\n",
       "       [-0.3603445 , -0.45967006,  0.75459959, -0.5214486 , -0.86516854],\n",
       "       [-0.56634177, -0.57126626,  0.14898194, -0.62134297,  1.38202247],\n",
       "       [-0.0639094 , -0.03985579,  0.45179077, -0.12187113, -0.86516854],\n",
       "       [-0.66682825, -0.67754835,  0.45179077, -0.62134297, -0.86516854],\n",
       "       [-0.36536882, -0.35870207, -0.75944453,  0.47749508,  0.25842697],\n",
       "       [-0.83263093, -0.74663171,  0.14898194,  0.17781197, -0.86516854],\n",
       "       [-0.15434723, -0.24179176, -1.06225336,  0.67728381,  0.82022472],\n",
       "       [ 0.13706355,  0.1727084 , -3.48472396, -0.2217655 ,  1.38202247],\n",
       "       [ 0.13706355,  0.1727084 , -0.15382688, -0.5214486 , -0.30337079],\n",
       "       [-0.0639094 , -0.03985579,  0.14898194, -0.42155423,  1.38202247],\n",
       "       [ 1.1419283 ,  1.23552934,  0.45179077, -0.62134297,  1.38202247],\n",
       "       [-0.94819038, -0.97513821, -0.75944453, -0.42155423,  1.38202247],\n",
       "       [-0.0639094 , -0.03985579,  1.05740842, -0.42155423, -0.86516854],\n",
       "       [ 0.24257435,  0.17802251, -0.45663571, -0.2217655 ,  1.38202247],\n",
       "       [ 3.9555496 ,  3.8925817 ,  1.29965548, -0.12187113, -0.86516854],\n",
       "       [-0.86277687, -0.77851634, -0.15382688, -0.12187113,  1.38202247],\n",
       "       [ 2.5587876 ,  2.62782478, -0.15382688, -0.42155423,  1.38202247],\n",
       "       [-0.76731472, -0.78383044, -1.97067983,  0.17781197, -0.30337079],\n",
       "       [ 1.93074713,  1.96356169, -0.15382688,  0.07791761, -0.86516854],\n",
       "       [-0.4658553 , -0.57126626,  0.75459959,  0.07791761, -0.86516854],\n",
       "       [ 3.45814155,  3.47276742,  1.36021724, -0.02197676, -0.86516854],\n",
       "       [-0.05386075, -0.02922758, -1.06225336,  0.37760071,  0.82022472],\n",
       "       [ 0.43852298,  0.38527259,  1.36021724, -0.12187113, -0.86516854],\n",
       "       [-0.36536882, -0.35870207,  0.87572312, -0.5214486 , -0.86516854],\n",
       "       [-0.25985802, -0.35338796,  0.75459959,  0.57738944, -0.86516854],\n",
       "       [-0.0639094 , -0.03985579,  0.45179077, -0.42155423, -0.86516854],\n",
       "       [-0.6567796 , -0.66692014,  0.75459959, -0.12187113, -0.86516854]])"
      ]
     },
     "execution_count": 65,
     "metadata": {},
     "output_type": "execute_result"
    }
   ],
   "source": [
    "main_scaled= StandardScaler().fit_transform(main_data_df[[\n",
    "    'Regular Price', 'Sale Price', 'Alcohol/Vol', 'Sugar Content (g/L)', 'Category']])\n",
    "main_scaled"
   ]
  },
  {
   "cell_type": "code",
   "execution_count": 66,
   "metadata": {
    "id": "f02uEUtKkgUg"
   },
   "outputs": [],
   "source": [
    "\n",
    "main_scaled_df = pd.DataFrame(main_scaled, columns = [\n",
    "    'Regular Price', 'Sale Price', 'Alcohol/Vol', 'Sugar Content (g/L)', 'Category'])"
   ]
  },
  {
   "cell_type": "code",
   "execution_count": 67,
   "metadata": {
    "colab": {
     "base_uri": "https://localhost:8080/",
     "height": 676
    },
    "id": "jCYwFJiRk88w",
    "outputId": "e8f095ec-05c0-41cb-bee5-9a51e934de00"
   },
   "outputs": [
    {
     "data": {
      "text/html": [
       "<div>\n",
       "<style scoped>\n",
       "    .dataframe tbody tr th:only-of-type {\n",
       "        vertical-align: middle;\n",
       "    }\n",
       "\n",
       "    .dataframe tbody tr th {\n",
       "        vertical-align: top;\n",
       "    }\n",
       "\n",
       "    .dataframe thead th {\n",
       "        text-align: right;\n",
       "    }\n",
       "</style>\n",
       "<table border=\"1\" class=\"dataframe\">\n",
       "  <thead>\n",
       "    <tr style=\"text-align: right;\">\n",
       "      <th></th>\n",
       "      <th>Regular Price</th>\n",
       "      <th>Sale Price</th>\n",
       "      <th>Alcohol/Vol</th>\n",
       "      <th>Sugar Content (g/L)</th>\n",
       "      <th>Category</th>\n",
       "    </tr>\n",
       "  </thead>\n",
       "  <tbody>\n",
       "    <tr>\n",
       "      <th>29</th>\n",
       "      <td>-0.154347</td>\n",
       "      <td>-0.241792</td>\n",
       "      <td>-1.062253</td>\n",
       "      <td>0.677284</td>\n",
       "      <td>0.820225</td>\n",
       "    </tr>\n",
       "    <tr>\n",
       "      <th>17</th>\n",
       "      <td>-0.068934</td>\n",
       "      <td>-0.045170</td>\n",
       "      <td>0.451791</td>\n",
       "      <td>-0.121871</td>\n",
       "      <td>1.382022</td>\n",
       "    </tr>\n",
       "    <tr>\n",
       "      <th>21</th>\n",
       "      <td>-0.867801</td>\n",
       "      <td>-0.783830</td>\n",
       "      <td>0.451791</td>\n",
       "      <td>-0.521449</td>\n",
       "      <td>-0.865169</td>\n",
       "    </tr>\n",
       "    <tr>\n",
       "      <th>48</th>\n",
       "      <td>-0.063909</td>\n",
       "      <td>-0.039856</td>\n",
       "      <td>0.451791</td>\n",
       "      <td>-0.421554</td>\n",
       "      <td>-0.865169</td>\n",
       "    </tr>\n",
       "    <tr>\n",
       "      <th>39</th>\n",
       "      <td>2.558788</td>\n",
       "      <td>2.627825</td>\n",
       "      <td>-0.153827</td>\n",
       "      <td>-0.421554</td>\n",
       "      <td>1.382022</td>\n",
       "    </tr>\n",
       "    <tr>\n",
       "      <th>1</th>\n",
       "      <td>-0.259858</td>\n",
       "      <td>-0.300247</td>\n",
       "      <td>-1.062253</td>\n",
       "      <td>0.577389</td>\n",
       "      <td>0.820225</td>\n",
       "    </tr>\n",
       "    <tr>\n",
       "      <th>5</th>\n",
       "      <td>-0.717071</td>\n",
       "      <td>-0.624407</td>\n",
       "      <td>-0.153827</td>\n",
       "      <td>-0.521449</td>\n",
       "      <td>-0.865169</td>\n",
       "    </tr>\n",
       "    <tr>\n",
       "      <th>7</th>\n",
       "      <td>-0.350296</td>\n",
       "      <td>-0.449042</td>\n",
       "      <td>0.148982</td>\n",
       "      <td>-0.321660</td>\n",
       "      <td>1.382022</td>\n",
       "    </tr>\n",
       "    <tr>\n",
       "      <th>33</th>\n",
       "      <td>1.141928</td>\n",
       "      <td>1.235529</td>\n",
       "      <td>0.451791</td>\n",
       "      <td>-0.621343</td>\n",
       "      <td>1.382022</td>\n",
       "    </tr>\n",
       "    <tr>\n",
       "      <th>26</th>\n",
       "      <td>-0.666828</td>\n",
       "      <td>-0.677548</td>\n",
       "      <td>0.451791</td>\n",
       "      <td>-0.621343</td>\n",
       "      <td>-0.865169</td>\n",
       "    </tr>\n",
       "    <tr>\n",
       "      <th>35</th>\n",
       "      <td>-0.063909</td>\n",
       "      <td>-0.039856</td>\n",
       "      <td>1.057408</td>\n",
       "      <td>-0.421554</td>\n",
       "      <td>-0.865169</td>\n",
       "    </tr>\n",
       "    <tr>\n",
       "      <th>0</th>\n",
       "      <td>-0.566342</td>\n",
       "      <td>-0.571266</td>\n",
       "      <td>0.451791</td>\n",
       "      <td>-0.321660</td>\n",
       "      <td>-0.865169</td>\n",
       "    </tr>\n",
       "    <tr>\n",
       "      <th>24</th>\n",
       "      <td>-0.566342</td>\n",
       "      <td>-0.571266</td>\n",
       "      <td>0.148982</td>\n",
       "      <td>-0.621343</td>\n",
       "      <td>1.382022</td>\n",
       "    </tr>\n",
       "    <tr>\n",
       "      <th>15</th>\n",
       "      <td>-0.300053</td>\n",
       "      <td>-0.289619</td>\n",
       "      <td>0.148982</td>\n",
       "      <td>-0.621343</td>\n",
       "      <td>-0.865169</td>\n",
       "    </tr>\n",
       "    <tr>\n",
       "      <th>23</th>\n",
       "      <td>-0.360344</td>\n",
       "      <td>-0.459670</td>\n",
       "      <td>0.754600</td>\n",
       "      <td>-0.521449</td>\n",
       "      <td>-0.865169</td>\n",
       "    </tr>\n",
       "    <tr>\n",
       "      <th>25</th>\n",
       "      <td>-0.063909</td>\n",
       "      <td>-0.039856</td>\n",
       "      <td>0.451791</td>\n",
       "      <td>-0.121871</td>\n",
       "      <td>-0.865169</td>\n",
       "    </tr>\n",
       "    <tr>\n",
       "      <th>13</th>\n",
       "      <td>0.739982</td>\n",
       "      <td>0.704119</td>\n",
       "      <td>0.633476</td>\n",
       "      <td>-0.021977</td>\n",
       "      <td>-0.865169</td>\n",
       "    </tr>\n",
       "    <tr>\n",
       "      <th>14</th>\n",
       "      <td>-0.259858</td>\n",
       "      <td>-0.247106</td>\n",
       "      <td>0.633476</td>\n",
       "      <td>-0.221765</td>\n",
       "      <td>-0.865169</td>\n",
       "    </tr>\n",
       "    <tr>\n",
       "      <th>46</th>\n",
       "      <td>-0.365369</td>\n",
       "      <td>-0.358702</td>\n",
       "      <td>0.875723</td>\n",
       "      <td>-0.521449</td>\n",
       "      <td>-0.865169</td>\n",
       "    </tr>\n",
       "    <tr>\n",
       "      <th>9</th>\n",
       "      <td>0.438523</td>\n",
       "      <td>0.491555</td>\n",
       "      <td>1.057408</td>\n",
       "      <td>-0.321660</td>\n",
       "      <td>-0.865169</td>\n",
       "    </tr>\n",
       "  </tbody>\n",
       "</table>\n",
       "</div>"
      ],
      "text/plain": [
       "    Regular Price  Sale Price  Alcohol/Vol  Sugar Content (g/L)  Category\n",
       "29      -0.154347   -0.241792    -1.062253             0.677284  0.820225\n",
       "17      -0.068934   -0.045170     0.451791            -0.121871  1.382022\n",
       "21      -0.867801   -0.783830     0.451791            -0.521449 -0.865169\n",
       "48      -0.063909   -0.039856     0.451791            -0.421554 -0.865169\n",
       "39       2.558788    2.627825    -0.153827            -0.421554  1.382022\n",
       "1       -0.259858   -0.300247    -1.062253             0.577389  0.820225\n",
       "5       -0.717071   -0.624407    -0.153827            -0.521449 -0.865169\n",
       "7       -0.350296   -0.449042     0.148982            -0.321660  1.382022\n",
       "33       1.141928    1.235529     0.451791            -0.621343  1.382022\n",
       "26      -0.666828   -0.677548     0.451791            -0.621343 -0.865169\n",
       "35      -0.063909   -0.039856     1.057408            -0.421554 -0.865169\n",
       "0       -0.566342   -0.571266     0.451791            -0.321660 -0.865169\n",
       "24      -0.566342   -0.571266     0.148982            -0.621343  1.382022\n",
       "15      -0.300053   -0.289619     0.148982            -0.621343 -0.865169\n",
       "23      -0.360344   -0.459670     0.754600            -0.521449 -0.865169\n",
       "25      -0.063909   -0.039856     0.451791            -0.121871 -0.865169\n",
       "13       0.739982    0.704119     0.633476            -0.021977 -0.865169\n",
       "14      -0.259858   -0.247106     0.633476            -0.221765 -0.865169\n",
       "46      -0.365369   -0.358702     0.875723            -0.521449 -0.865169\n",
       "9        0.438523    0.491555     1.057408            -0.321660 -0.865169"
      ]
     },
     "execution_count": 67,
     "metadata": {},
     "output_type": "execute_result"
    }
   ],
   "source": [
    "main_scaled_df.sample(20)"
   ]
  },
  {
   "cell_type": "code",
   "execution_count": 68,
   "metadata": {
    "id": "C1Y170Mbqo5z"
   },
   "outputs": [],
   "source": [
    "inertia=[]\n",
    "k=list(range(1, 15))"
   ]
  },
  {
   "cell_type": "code",
   "execution_count": 69,
   "metadata": {
    "colab": {
     "base_uri": "https://localhost:8080/"
    },
    "id": "ehxfyBvdngmE",
    "outputId": "fa404492-8698-495f-f6bc-888eddf8c7c5"
   },
   "outputs": [
    {
     "name": "stderr",
     "output_type": "stream",
     "text": [
      "/Users/johnp/anaconda3/lib/python3.10/site-packages/sklearn/cluster/_kmeans.py:870: FutureWarning: The default value of `n_init` will change from 10 to 'auto' in 1.4. Set the value of `n_init` explicitly to suppress the warning\n",
      "  warnings.warn(\n",
      "/Users/johnp/anaconda3/lib/python3.10/site-packages/sklearn/cluster/_kmeans.py:870: FutureWarning: The default value of `n_init` will change from 10 to 'auto' in 1.4. Set the value of `n_init` explicitly to suppress the warning\n",
      "  warnings.warn(\n",
      "/Users/johnp/anaconda3/lib/python3.10/site-packages/sklearn/cluster/_kmeans.py:870: FutureWarning: The default value of `n_init` will change from 10 to 'auto' in 1.4. Set the value of `n_init` explicitly to suppress the warning\n",
      "  warnings.warn(\n",
      "/Users/johnp/anaconda3/lib/python3.10/site-packages/sklearn/cluster/_kmeans.py:870: FutureWarning: The default value of `n_init` will change from 10 to 'auto' in 1.4. Set the value of `n_init` explicitly to suppress the warning\n",
      "  warnings.warn(\n",
      "/Users/johnp/anaconda3/lib/python3.10/site-packages/sklearn/cluster/_kmeans.py:870: FutureWarning: The default value of `n_init` will change from 10 to 'auto' in 1.4. Set the value of `n_init` explicitly to suppress the warning\n",
      "  warnings.warn(\n",
      "/Users/johnp/anaconda3/lib/python3.10/site-packages/sklearn/cluster/_kmeans.py:870: FutureWarning: The default value of `n_init` will change from 10 to 'auto' in 1.4. Set the value of `n_init` explicitly to suppress the warning\n",
      "  warnings.warn(\n",
      "/Users/johnp/anaconda3/lib/python3.10/site-packages/sklearn/cluster/_kmeans.py:870: FutureWarning: The default value of `n_init` will change from 10 to 'auto' in 1.4. Set the value of `n_init` explicitly to suppress the warning\n",
      "  warnings.warn(\n",
      "/Users/johnp/anaconda3/lib/python3.10/site-packages/sklearn/cluster/_kmeans.py:870: FutureWarning: The default value of `n_init` will change from 10 to 'auto' in 1.4. Set the value of `n_init` explicitly to suppress the warning\n",
      "  warnings.warn(\n",
      "/Users/johnp/anaconda3/lib/python3.10/site-packages/sklearn/cluster/_kmeans.py:870: FutureWarning: The default value of `n_init` will change from 10 to 'auto' in 1.4. Set the value of `n_init` explicitly to suppress the warning\n",
      "  warnings.warn(\n",
      "/Users/johnp/anaconda3/lib/python3.10/site-packages/sklearn/cluster/_kmeans.py:870: FutureWarning: The default value of `n_init` will change from 10 to 'auto' in 1.4. Set the value of `n_init` explicitly to suppress the warning\n",
      "  warnings.warn(\n",
      "/Users/johnp/anaconda3/lib/python3.10/site-packages/sklearn/cluster/_kmeans.py:870: FutureWarning: The default value of `n_init` will change from 10 to 'auto' in 1.4. Set the value of `n_init` explicitly to suppress the warning\n",
      "  warnings.warn(\n",
      "/Users/johnp/anaconda3/lib/python3.10/site-packages/sklearn/cluster/_kmeans.py:870: FutureWarning: The default value of `n_init` will change from 10 to 'auto' in 1.4. Set the value of `n_init` explicitly to suppress the warning\n",
      "  warnings.warn(\n",
      "/Users/johnp/anaconda3/lib/python3.10/site-packages/sklearn/cluster/_kmeans.py:870: FutureWarning: The default value of `n_init` will change from 10 to 'auto' in 1.4. Set the value of `n_init` explicitly to suppress the warning\n",
      "  warnings.warn(\n",
      "/Users/johnp/anaconda3/lib/python3.10/site-packages/sklearn/cluster/_kmeans.py:870: FutureWarning: The default value of `n_init` will change from 10 to 'auto' in 1.4. Set the value of `n_init` explicitly to suppress the warning\n",
      "  warnings.warn(\n"
     ]
    }
   ],
   "source": [
    "for i in k:\n",
    "    category_model=KMeans(n_clusters=i, random_state=0)\n",
    "    category_model.fit(main_scaled_df)\n",
    "    inertia.append(category_model.inertia_)"
   ]
  },
  {
   "cell_type": "code",
   "execution_count": 70,
   "metadata": {
    "id": "_AkbYd_kn679"
   },
   "outputs": [],
   "source": [
    "category_elbow = {'k':k, 'inertia':inertia}\n",
    "elbow_df = pd.DataFrame(category_elbow)"
   ]
  },
  {
   "cell_type": "code",
   "execution_count": 71,
   "metadata": {
    "colab": {
     "base_uri": "https://localhost:8080/",
     "height": 206
    },
    "id": "R5IbgbkSpl9p",
    "outputId": "f7889c34-cfde-4ed6-d5c3-3edf84f0193a"
   },
   "outputs": [
    {
     "data": {
      "text/html": [
       "<div>\n",
       "<style scoped>\n",
       "    .dataframe tbody tr th:only-of-type {\n",
       "        vertical-align: middle;\n",
       "    }\n",
       "\n",
       "    .dataframe tbody tr th {\n",
       "        vertical-align: top;\n",
       "    }\n",
       "\n",
       "    .dataframe thead th {\n",
       "        text-align: right;\n",
       "    }\n",
       "</style>\n",
       "<table border=\"1\" class=\"dataframe\">\n",
       "  <thead>\n",
       "    <tr style=\"text-align: right;\">\n",
       "      <th></th>\n",
       "      <th>k</th>\n",
       "      <th>inertia</th>\n",
       "    </tr>\n",
       "  </thead>\n",
       "  <tbody>\n",
       "    <tr>\n",
       "      <th>0</th>\n",
       "      <td>1</td>\n",
       "      <td>250.000000</td>\n",
       "    </tr>\n",
       "    <tr>\n",
       "      <th>1</th>\n",
       "      <td>2</td>\n",
       "      <td>170.681133</td>\n",
       "    </tr>\n",
       "    <tr>\n",
       "      <th>2</th>\n",
       "      <td>3</td>\n",
       "      <td>113.334072</td>\n",
       "    </tr>\n",
       "    <tr>\n",
       "      <th>3</th>\n",
       "      <td>4</td>\n",
       "      <td>68.827626</td>\n",
       "    </tr>\n",
       "    <tr>\n",
       "      <th>4</th>\n",
       "      <td>5</td>\n",
       "      <td>50.431964</td>\n",
       "    </tr>\n",
       "  </tbody>\n",
       "</table>\n",
       "</div>"
      ],
      "text/plain": [
       "   k     inertia\n",
       "0  1  250.000000\n",
       "1  2  170.681133\n",
       "2  3  113.334072\n",
       "3  4   68.827626\n",
       "4  5   50.431964"
      ]
     },
     "execution_count": 71,
     "metadata": {},
     "output_type": "execute_result"
    }
   ],
   "source": [
    "elbow_df.head()"
   ]
  },
  {
   "cell_type": "code",
   "execution_count": 72,
   "metadata": {
    "colab": {
     "base_uri": "https://localhost:8080/",
     "height": 466
    },
    "id": "0vC-y_Aqpqqe",
    "outputId": "e07e1cb9-ff51-4c9f-eb37-abaf3f0783dc"
   },
   "outputs": [
    {
     "data": {
      "text/plain": [
       "<Axes: xlabel='k'>"
      ]
     },
     "execution_count": 72,
     "metadata": {},
     "output_type": "execute_result"
    },
    {
     "data": {
      "image/png": "[encoded data removed]",
      "text/plain": [
       "<Figure size 640x480 with 1 Axes>"
      ]
     },
     "metadata": {},
     "output_type": "display_data"
    }
   ],
   "source": [
    "elbow_df.plot('k', 'inertia')"
   ]
  },
  {
   "cell_type": "code",
   "execution_count": 73,
   "metadata": {
    "id": "QIxT2OWYp0ie"
   },
   "outputs": [],
   "source": [
    "model=KMeans(n_clusters=5, random_state=0)"
   ]
  },
  {
   "cell_type": "code",
   "execution_count": 74,
   "metadata": {
    "colab": {
     "base_uri": "https://localhost:8080/",
     "height": 130
    },
    "id": "9jvX6Dzftd4z",
    "outputId": "41ae9ae9-7234-4307-997b-55f2f2958644"
   },
   "outputs": [
    {
     "name": "stderr",
     "output_type": "stream",
     "text": [
      "/Users/johnp/anaconda3/lib/python3.10/site-packages/sklearn/cluster/_kmeans.py:870: FutureWarning: The default value of `n_init` will change from 10 to 'auto' in 1.4. Set the value of `n_init` explicitly to suppress the warning\n",
      "  warnings.warn(\n"
     ]
    },
    {
     "data": {
      "text/html": [
       "<style>#sk-container-id-2 {color: black;background-color: white;}#sk-container-id-2 pre{padding: 0;}#sk-container-id-2 div.sk-toggleable {background-color: white;}#sk-container-id-2 label.sk-toggleable__label {cursor: pointer;display: block;width: 100%;margin-bottom: 0;padding: 0.3em;box-sizing: border-box;text-align: center;}#sk-container-id-2 label.sk-toggleable__label-arrow:before {content: \"▸\";float: left;margin-right: 0.25em;color: #696969;}#sk-container-id-2 label.sk-toggleable__label-arrow:hover:before {color: black;}#sk-container-id-2 div.sk-estimator:hover label.sk-toggleable__label-arrow:before {color: black;}#sk-container-id-2 div.sk-toggleable__content {max-height: 0;max-width: 0;overflow: hidden;text-align: left;background-color: #f0f8ff;}#sk-container-id-2 div.sk-toggleable__content pre {margin: 0.2em;color: black;border-radius: 0.25em;background-color: #f0f8ff;}#sk-container-id-2 input.sk-toggleable__control:checked~div.sk-toggleable__content {max-height: 200px;max-width: 100%;overflow: auto;}#sk-container-id-2 input.sk-toggleable__control:checked~label.sk-toggleable__label-arrow:before {content: \"▾\";}#sk-container-id-2 div.sk-estimator input.sk-toggleable__control:checked~label.sk-toggleable__label {background-color: #d4ebff;}#sk-container-id-2 div.sk-label input.sk-toggleable__control:checked~label.sk-toggleable__label {background-color: #d4ebff;}#sk-container-id-2 input.sk-hidden--visually {border: 0;clip: rect(1px 1px 1px 1px);clip: rect(1px, 1px, 1px, 1px);height: 1px;margin: -1px;overflow: hidden;padding: 0;position: absolute;width: 1px;}#sk-container-id-2 div.sk-estimator {font-family: monospace;background-color: #f0f8ff;border: 1px dotted black;border-radius: 0.25em;box-sizing: border-box;margin-bottom: 0.5em;}#sk-container-id-2 div.sk-estimator:hover {background-color: #d4ebff;}#sk-container-id-2 div.sk-parallel-item::after {content: \"\";width: 100%;border-bottom: 1px solid gray;flex-grow: 1;}#sk-container-id-2 div.sk-label:hover label.sk-toggleable__label {background-color: #d4ebff;}#sk-container-id-2 div.sk-serial::before {content: \"\";position: absolute;border-left: 1px solid gray;box-sizing: border-box;top: 0;bottom: 0;left: 50%;z-index: 0;}#sk-container-id-2 div.sk-serial {display: flex;flex-direction: column;align-items: center;background-color: white;padding-right: 0.2em;padding-left: 0.2em;position: relative;}#sk-container-id-2 div.sk-item {position: relative;z-index: 1;}#sk-container-id-2 div.sk-parallel {display: flex;align-items: stretch;justify-content: center;background-color: white;position: relative;}#sk-container-id-2 div.sk-item::before, #sk-container-id-2 div.sk-parallel-item::before {content: \"\";position: absolute;border-left: 1px solid gray;box-sizing: border-box;top: 0;bottom: 0;left: 50%;z-index: -1;}#sk-container-id-2 div.sk-parallel-item {display: flex;flex-direction: column;z-index: 1;position: relative;background-color: white;}#sk-container-id-2 div.sk-parallel-item:first-child::after {align-self: flex-end;width: 50%;}#sk-container-id-2 div.sk-parallel-item:last-child::after {align-self: flex-start;width: 50%;}#sk-container-id-2 div.sk-parallel-item:only-child::after {width: 0;}#sk-container-id-2 div.sk-dashed-wrapped {border: 1px dashed gray;margin: 0 0.4em 0.5em 0.4em;box-sizing: border-box;padding-bottom: 0.4em;background-color: white;}#sk-container-id-2 div.sk-label label {font-family: monospace;font-weight: bold;display: inline-block;line-height: 1.2em;}#sk-container-id-2 div.sk-label-container {text-align: center;}#sk-container-id-2 div.sk-container {/* jupyter's `normalize.less` sets `[hidden] { display: none; }` but bootstrap.min.css set `[hidden] { display: none !important; }` so we also need the `!important` here to be able to override the default hidden behavior on the sphinx rendered scikit-learn.org. See: https://github.com/scikit-learn/scikit-learn/issues/21755 */display: inline-block !important;position: relative;}#sk-container-id-2 div.sk-text-repr-fallback {display: none;}</style><div id=\"sk-container-id-2\" class=\"sk-top-container\"><div class=\"sk-text-repr-fallback\"><pre>KMeans(n_clusters=5, random_state=0)</pre><b>In a Jupyter environment, please rerun this cell to show the HTML representation or trust the notebook. <br />On GitHub, the HTML representation is unable to render, please try loading this page with nbviewer.org.</b></div><div class=\"sk-container\" hidden><div class=\"sk-item\"><div class=\"sk-estimator sk-toggleable\"><input class=\"sk-toggleable__control sk-hidden--visually\" id=\"sk-estimator-id-2\" type=\"checkbox\" checked><label for=\"sk-estimator-id-2\" class=\"sk-toggleable__label sk-toggleable__label-arrow\">KMeans</label><div class=\"sk-toggleable__content\"><pre>KMeans(n_clusters=5, random_state=0)</pre></div></div></div></div></div>"
      ],
      "text/plain": [
       "KMeans(n_clusters=5, random_state=0)"
      ]
     },
     "execution_count": 74,
     "metadata": {},
     "output_type": "execute_result"
    }
   ],
   "source": [
    "model.fit(main_scaled_df)"
   ]
  },
  {
   "cell_type": "code",
   "execution_count": 75,
   "metadata": {
    "id": "HvekYFxDtehF"
   },
   "outputs": [],
   "source": [
    "category_predict_df = model.predict(main_scaled_df)"
   ]
  },
  {
   "cell_type": "code",
   "execution_count": 76,
   "metadata": {
    "id": "W8Ik1wkIuGii"
   },
   "outputs": [],
   "source": [
    "main_data_df['Segment'] = category_predict_df"
   ]
  },
  {
   "cell_type": "code",
   "execution_count": 77,
   "metadata": {
    "colab": {
     "base_uri": "https://localhost:8080/",
     "height": 806
    },
    "id": "xa-us6oWuMbN",
    "outputId": "0ebdee7f-ec44-4c4f-a194-098e56dd0fc7"
   },
   "outputs": [
    {
     "data": {
      "text/html": [
       "<div>\n",
       "<style scoped>\n",
       "    .dataframe tbody tr th:only-of-type {\n",
       "        vertical-align: middle;\n",
       "    }\n",
       "\n",
       "    .dataframe tbody tr th {\n",
       "        vertical-align: top;\n",
       "    }\n",
       "\n",
       "    .dataframe thead th {\n",
       "        text-align: right;\n",
       "    }\n",
       "</style>\n",
       "<table border=\"1\" class=\"dataframe\">\n",
       "  <thead>\n",
       "    <tr style=\"text-align: right;\">\n",
       "      <th></th>\n",
       "      <th>Name</th>\n",
       "      <th>Regular Price</th>\n",
       "      <th>Sale Price</th>\n",
       "      <th>Rating</th>\n",
       "      <th>Reviews</th>\n",
       "      <th>Size</th>\n",
       "      <th>Description</th>\n",
       "      <th>Category</th>\n",
       "      <th>Image</th>\n",
       "      <th>Alcohol/Vol</th>\n",
       "      <th>Made In</th>\n",
       "      <th>Varietal</th>\n",
       "      <th>By</th>\n",
       "      <th>Release Date</th>\n",
       "      <th>Lat</th>\n",
       "      <th>Lon</th>\n",
       "      <th>Savings</th>\n",
       "      <th>Sugar Content (g/L)</th>\n",
       "      <th>Segment</th>\n",
       "    </tr>\n",
       "  </thead>\n",
       "  <tbody>\n",
       "    <tr>\n",
       "      <th>37</th>\n",
       "      <td>Belle Glos Clark &amp; Telephone Pinot Noir 2019</td>\n",
       "      <td>59.95</td>\n",
       "      <td>54.95</td>\n",
       "      <td>4.3</td>\n",
       "      <td>(3)</td>\n",
       "      <td>750 ml bottle</td>\n",
       "      <td>The 2019 Pinot Noir Clark &amp; Telephone is a pot...</td>\n",
       "      <td>0</td>\n",
       "      <td>https://aem.lcbo.com/content/dam/lcbo/products...</td>\n",
       "      <td>14.9</td>\n",
       "      <td>California,   United States</td>\n",
       "      <td>Pinot Noir</td>\n",
       "      <td>Belle Glos</td>\n",
       "      <td>September 10, 2022</td>\n",
       "      <td>36.701463</td>\n",
       "      <td>-118.755997</td>\n",
       "      <td>5.0</td>\n",
       "      <td>7.0</td>\n",
       "      <td>3</td>\n",
       "    </tr>\n",
       "    <tr>\n",
       "      <th>23</th>\n",
       "      <td>Bersano Costalunga Barbera D'Asti DOCG</td>\n",
       "      <td>17.00</td>\n",
       "      <td>14.00</td>\n",
       "      <td>4.6</td>\n",
       "      <td>(11)</td>\n",
       "      <td>750 ml bottle</td>\n",
       "      <td>Bright garnet hue; spice, smoke and plum notes...</td>\n",
       "      <td>0</td>\n",
       "      <td>https://aem.lcbo.com/content/dam/lcbo/products...</td>\n",
       "      <td>14.0</td>\n",
       "      <td>Piedmont,   Italy</td>\n",
       "      <td>Barbera</td>\n",
       "      <td>Bersano</td>\n",
       "      <td>0</td>\n",
       "      <td>46.067065</td>\n",
       "      <td>8.378351</td>\n",
       "      <td>3.0</td>\n",
       "      <td>3.0</td>\n",
       "      <td>1</td>\n",
       "    </tr>\n",
       "    <tr>\n",
       "      <th>21</th>\n",
       "      <td>Caliterra Cabernet Sauvignon</td>\n",
       "      <td>11.95</td>\n",
       "      <td>10.95</td>\n",
       "      <td>5.0</td>\n",
       "      <td>(6)</td>\n",
       "      <td>750 ml bottle</td>\n",
       "      <td>Ruby red colour; lifted chocolate, herbs, smok...</td>\n",
       "      <td>0</td>\n",
       "      <td>https://aem.lcbo.com/content/dam/lcbo/products...</td>\n",
       "      <td>13.5</td>\n",
       "      <td>Chile</td>\n",
       "      <td>Cabernet Sauvignon</td>\n",
       "      <td>Caliterra</td>\n",
       "      <td>0</td>\n",
       "      <td>-31.761336</td>\n",
       "      <td>-71.318770</td>\n",
       "      <td>1.0</td>\n",
       "      <td>3.0</td>\n",
       "      <td>1</td>\n",
       "    </tr>\n",
       "    <tr>\n",
       "      <th>41</th>\n",
       "      <td>Franzia Cabernet Sauvignon</td>\n",
       "      <td>39.80</td>\n",
       "      <td>36.80</td>\n",
       "      <td>4.0</td>\n",
       "      <td>(2)</td>\n",
       "      <td>3000 ml bagnbox</td>\n",
       "      <td>California's Franzia has mastered wine packagi...</td>\n",
       "      <td>0</td>\n",
       "      <td>https://aem.lcbo.com/content/dam/lcbo/products...</td>\n",
       "      <td>12.5</td>\n",
       "      <td>California,   United States</td>\n",
       "      <td>Cabernet Sauvignon</td>\n",
       "      <td>0</td>\n",
       "      <td>0</td>\n",
       "      <td>36.701463</td>\n",
       "      <td>-118.755997</td>\n",
       "      <td>3.0</td>\n",
       "      <td>9.0</td>\n",
       "      <td>3</td>\n",
       "    </tr>\n",
       "    <tr>\n",
       "      <th>44</th>\n",
       "      <td>Astoria Prosecco</td>\n",
       "      <td>20.05</td>\n",
       "      <td>18.05</td>\n",
       "      <td>5.0</td>\n",
       "      <td>(3)</td>\n",
       "      <td>750 ml bottle</td>\n",
       "      <td>Pale straw, light mousse; lifted, floral, yeas...</td>\n",
       "      <td>3</td>\n",
       "      <td>https://aem.lcbo.com/content/dam/lcbo/products...</td>\n",
       "      <td>11.0</td>\n",
       "      <td>Italy</td>\n",
       "      <td>Prosecco</td>\n",
       "      <td>Astoria</td>\n",
       "      <td>0</td>\n",
       "      <td>42.638426</td>\n",
       "      <td>12.674297</td>\n",
       "      <td>2.0</td>\n",
       "      <td>12.0</td>\n",
       "      <td>2</td>\n",
       "    </tr>\n",
       "    <tr>\n",
       "      <th>16</th>\n",
       "      <td>Wente Southern Hills Cabernet Sauvignon</td>\n",
       "      <td>21.20</td>\n",
       "      <td>18.20</td>\n",
       "      <td>4.8</td>\n",
       "      <td>(4)</td>\n",
       "      <td>750 ml bottle</td>\n",
       "      <td>Medium ruby purple colour; extra dry and mediu...</td>\n",
       "      <td>0</td>\n",
       "      <td>https://aem.lcbo.com/content/dam/lcbo/products...</td>\n",
       "      <td>13.5</td>\n",
       "      <td>United States</td>\n",
       "      <td>Cabernet Sauvignon</td>\n",
       "      <td>Wente</td>\n",
       "      <td>0</td>\n",
       "      <td>39.783730</td>\n",
       "      <td>-100.445882</td>\n",
       "      <td>3.0</td>\n",
       "      <td>6.0</td>\n",
       "      <td>1</td>\n",
       "    </tr>\n",
       "    <tr>\n",
       "      <th>43</th>\n",
       "      <td>Masi Costasera Amarone Classico DOC</td>\n",
       "      <td>55.00</td>\n",
       "      <td>51.00</td>\n",
       "      <td>4.8</td>\n",
       "      <td>(12)</td>\n",
       "      <td>750 ml bottle</td>\n",
       "      <td>Deep purple ruby colour; rich, ripe, dark frui...</td>\n",
       "      <td>0</td>\n",
       "      <td>https://aem.lcbo.com/content/dam/lcbo/products...</td>\n",
       "      <td>15.0</td>\n",
       "      <td>Veneto,   Italy</td>\n",
       "      <td>Amarone</td>\n",
       "      <td>Masi</td>\n",
       "      <td>0</td>\n",
       "      <td>45.647666</td>\n",
       "      <td>11.866525</td>\n",
       "      <td>4.0</td>\n",
       "      <td>8.0</td>\n",
       "      <td>3</td>\n",
       "    </tr>\n",
       "    <tr>\n",
       "      <th>19</th>\n",
       "      <td>Oyster Bay Sauvignon Blanc</td>\n",
       "      <td>21.95</td>\n",
       "      <td>18.95</td>\n",
       "      <td>4.7</td>\n",
       "      <td>(73)</td>\n",
       "      <td>750 ml bottle</td>\n",
       "      <td>Popular Oyster Bay hails from the Marlborough ...</td>\n",
       "      <td>4</td>\n",
       "      <td>https://aem.lcbo.com/content/dam/lcbo/products...</td>\n",
       "      <td>12.5</td>\n",
       "      <td>Marlborough,   New Zealand</td>\n",
       "      <td>Sauvignon Blanc</td>\n",
       "      <td>Oyster Bay</td>\n",
       "      <td>April 1, 2021</td>\n",
       "      <td>-36.784622</td>\n",
       "      <td>174.723989</td>\n",
       "      <td>3.0</td>\n",
       "      <td>5.0</td>\n",
       "      <td>0</td>\n",
       "    </tr>\n",
       "    <tr>\n",
       "      <th>17</th>\n",
       "      <td>Bread &amp; Butter Chardonnay</td>\n",
       "      <td>19.90</td>\n",
       "      <td>17.90</td>\n",
       "      <td>3.6</td>\n",
       "      <td>(37)</td>\n",
       "      <td>750 ml bottle</td>\n",
       "      <td>Based in California, Bread &amp; Butter makes appr...</td>\n",
       "      <td>4</td>\n",
       "      <td>https://aem.lcbo.com/content/dam/lcbo/products...</td>\n",
       "      <td>13.5</td>\n",
       "      <td>California,   United States</td>\n",
       "      <td>Chardonnay</td>\n",
       "      <td>Bread &amp; Butter</td>\n",
       "      <td>0</td>\n",
       "      <td>36.701463</td>\n",
       "      <td>-118.755997</td>\n",
       "      <td>2.0</td>\n",
       "      <td>7.0</td>\n",
       "      <td>0</td>\n",
       "    </tr>\n",
       "    <tr>\n",
       "      <th>10</th>\n",
       "      <td>Woodbridge By Robert Mondavi Chardonnay</td>\n",
       "      <td>14.95</td>\n",
       "      <td>12.95</td>\n",
       "      <td>4.5</td>\n",
       "      <td>(217)</td>\n",
       "      <td>750 ml bottle</td>\n",
       "      <td>The colour is a bright pale lemon; aromas of r...</td>\n",
       "      <td>4</td>\n",
       "      <td>https://aem.lcbo.com/content/dam/lcbo/products...</td>\n",
       "      <td>13.5</td>\n",
       "      <td>California,   United States</td>\n",
       "      <td>Chardonnay</td>\n",
       "      <td>Woodbridge By Robert Mondavi</td>\n",
       "      <td>0</td>\n",
       "      <td>36.701463</td>\n",
       "      <td>-118.755997</td>\n",
       "      <td>2.0</td>\n",
       "      <td>6.0</td>\n",
       "      <td>0</td>\n",
       "    </tr>\n",
       "  </tbody>\n",
       "</table>\n",
       "</div>"
      ],
      "text/plain": [
       "                                             Name  Regular Price  Sale Price  \\\n",
       "37   Belle Glos Clark & Telephone Pinot Noir 2019          59.95       54.95   \n",
       "23         Bersano Costalunga Barbera D'Asti DOCG          17.00       14.00   \n",
       "21                   Caliterra Cabernet Sauvignon          11.95       10.95   \n",
       "41                     Franzia Cabernet Sauvignon          39.80       36.80   \n",
       "44                               Astoria Prosecco          20.05       18.05   \n",
       "16        Wente Southern Hills Cabernet Sauvignon          21.20       18.20   \n",
       "43            Masi Costasera Amarone Classico DOC          55.00       51.00   \n",
       "19                     Oyster Bay Sauvignon Blanc          21.95       18.95   \n",
       "17                      Bread & Butter Chardonnay          19.90       17.90   \n",
       "10        Woodbridge By Robert Mondavi Chardonnay          14.95       12.95   \n",
       "\n",
       "    Rating Reviews                Size  \\\n",
       "37     4.3     (3)      750 ml bottle    \n",
       "23     4.6    (11)      750 ml bottle    \n",
       "21     5.0     (6)      750 ml bottle    \n",
       "41     4.0     (2)    3000 ml bagnbox    \n",
       "44     5.0     (3)      750 ml bottle    \n",
       "16     4.8     (4)      750 ml bottle    \n",
       "43     4.8    (12)      750 ml bottle    \n",
       "19     4.7    (73)      750 ml bottle    \n",
       "17     3.6    (37)      750 ml bottle    \n",
       "10     4.5   (217)      750 ml bottle    \n",
       "\n",
       "                                          Description  Category  \\\n",
       "37  The 2019 Pinot Noir Clark & Telephone is a pot...         0   \n",
       "23  Bright garnet hue; spice, smoke and plum notes...         0   \n",
       "21  Ruby red colour; lifted chocolate, herbs, smok...         0   \n",
       "41  California's Franzia has mastered wine packagi...         0   \n",
       "44  Pale straw, light mousse; lifted, floral, yeas...         3   \n",
       "16  Medium ruby purple colour; extra dry and mediu...         0   \n",
       "43  Deep purple ruby colour; rich, ripe, dark frui...         0   \n",
       "19  Popular Oyster Bay hails from the Marlborough ...         4   \n",
       "17  Based in California, Bread & Butter makes appr...         4   \n",
       "10  The colour is a bright pale lemon; aromas of r...         4   \n",
       "\n",
       "                                                Image  Alcohol/Vol  \\\n",
       "37  https://aem.lcbo.com/content/dam/lcbo/products...         14.9   \n",
       "23  https://aem.lcbo.com/content/dam/lcbo/products...         14.0   \n",
       "21  https://aem.lcbo.com/content/dam/lcbo/products...         13.5   \n",
       "41  https://aem.lcbo.com/content/dam/lcbo/products...         12.5   \n",
       "44  https://aem.lcbo.com/content/dam/lcbo/products...         11.0   \n",
       "16  https://aem.lcbo.com/content/dam/lcbo/products...         13.5   \n",
       "43  https://aem.lcbo.com/content/dam/lcbo/products...         15.0   \n",
       "19  https://aem.lcbo.com/content/dam/lcbo/products...         12.5   \n",
       "17  https://aem.lcbo.com/content/dam/lcbo/products...         13.5   \n",
       "10  https://aem.lcbo.com/content/dam/lcbo/products...         13.5   \n",
       "\n",
       "                          Made In            Varietal  \\\n",
       "37   California,   United States           Pinot Noir   \n",
       "23             Piedmont,   Italy              Barbera   \n",
       "21                         Chile   Cabernet Sauvignon   \n",
       "41   California,   United States   Cabernet Sauvignon   \n",
       "44                         Italy             Prosecco   \n",
       "16                 United States   Cabernet Sauvignon   \n",
       "43               Veneto,   Italy              Amarone   \n",
       "19    Marlborough,   New Zealand      Sauvignon Blanc   \n",
       "17   California,   United States           Chardonnay   \n",
       "10   California,   United States           Chardonnay   \n",
       "\n",
       "                              By            Release Date        Lat  \\\n",
       "37                    Belle Glos    September 10, 2022    36.701463   \n",
       "23                       Bersano                       0  46.067065   \n",
       "21                     Caliterra                       0 -31.761336   \n",
       "41                             0                       0  36.701463   \n",
       "44                       Astoria                       0  42.638426   \n",
       "16                         Wente                       0  39.783730   \n",
       "43                          Masi                       0  45.647666   \n",
       "19                    Oyster Bay         April 1, 2021   -36.784622   \n",
       "17                Bread & Butter                       0  36.701463   \n",
       "10  Woodbridge By Robert Mondavi                       0  36.701463   \n",
       "\n",
       "           Lon  Savings  Sugar Content (g/L)  Segment  \n",
       "37 -118.755997      5.0                  7.0        3  \n",
       "23    8.378351      3.0                  3.0        1  \n",
       "21  -71.318770      1.0                  3.0        1  \n",
       "41 -118.755997      3.0                  9.0        3  \n",
       "44   12.674297      2.0                 12.0        2  \n",
       "16 -100.445882      3.0                  6.0        1  \n",
       "43   11.866525      4.0                  8.0        3  \n",
       "19  174.723989      3.0                  5.0        0  \n",
       "17 -118.755997      2.0                  7.0        0  \n",
       "10 -118.755997      2.0                  6.0        0  "
      ]
     },
     "execution_count": 77,
     "metadata": {},
     "output_type": "execute_result"
    }
   ],
   "source": [
    "main_data_df.sample(10)\n"
   ]
  },
  {
   "cell_type": "code",
   "execution_count": 78,
   "metadata": {
    "colab": {
     "base_uri": "https://localhost:8080/"
    },
    "id": "oPCbVXSfyKsI",
    "outputId": "9cdd2ecf-fef5-4d96-c4ab-e821351ab44f"
   },
   "outputs": [
    {
     "data": {
      "text/plain": [
       "1    25\n",
       "0    12\n",
       "2     8\n",
       "3     4\n",
       "4     1\n",
       "Name: Segment, dtype: int64"
      ]
     },
     "execution_count": 78,
     "metadata": {},
     "output_type": "execute_result"
    }
   ],
   "source": [
    "main_data_df['Segment'].value_counts()"
   ]
  },
  {
   "cell_type": "code",
   "execution_count": 79,
   "metadata": {
    "colab": {
     "base_uri": "https://localhost:8080/",
     "height": 466
    },
    "id": "1qrVjb0ou5sG",
    "outputId": "0ca25583-9831-4748-a0ea-eca9c876663d"
   },
   "outputs": [
    {
     "data": {
      "text/plain": [
       "<Axes: xlabel='Sugar Content (g/L)', ylabel='Segment'>"
      ]
     },
     "execution_count": 79,
     "metadata": {},
     "output_type": "execute_result"
    },
    {
     "data": {
      "image/png": "[encoded data removed]",
      "text/plain": [
       "<Figure size 640x480 with 1 Axes>"
      ]
     },
     "metadata": {},
     "output_type": "display_data"
    }
   ],
   "source": [
    "main_data_df.plot.scatter('Sugar Content (g/L)','Segment')"
   ]
  },
  {
   "cell_type": "code",
   "execution_count": 80,
   "metadata": {
    "colab": {
     "base_uri": "https://localhost:8080/",
     "height": 466
    },
    "id": "lwzaYbLJyY46",
    "outputId": "15d666d1-3bc3-4720-9b39-088c2304ec68"
   },
   "outputs": [
    {
     "data": {
      "text/plain": [
       "<Axes: xlabel='Segment', ylabel='Sugar Content (g/L)'>"
      ]
     },
     "execution_count": 80,
     "metadata": {},
     "output_type": "execute_result"
    },
    {
     "data": {
      "image/png": "[encoded data removed]",
      "text/plain": [
       "<Figure size 640x480 with 1 Axes>"
      ]
     },
     "metadata": {},
     "output_type": "display_data"
    }
   ],
   "source": [
    "main_data_df.plot.scatter('Segment', 'Sugar Content (g/L)')"
   ]
  },
  {
   "cell_type": "code",
   "execution_count": 81,
   "metadata": {
    "id": "-7as2Hy_yhiS"
   },
   "outputs": [],
   "source": [
    "main_data_df.to_csv('sugar_recommendation.csv', index = False)"
   ]
  },
  {
   "cell_type": "code",
   "execution_count": null,
   "metadata": {
    "id": "eU8wAqUn5F9x"
   },
   "outputs": [],
   "source": []
  },
  {
   "cell_type": "code",
   "execution_count": null,
   "metadata": {},
   "outputs": [],
   "source": [
    " "
   ]
  }
 ],
 "metadata": {
  "colab": {
   "authorship_tag": "ABX9TyNM+tBZzVX6qKbqnm055AlL",
   "include_colab_link": true,
   "provenance": []
  },
  "kernelspec": {
   "display_name": "Python 3 (ipykernel)",
   "language": "python",
   "name": "python3"
  },
  "language_info": {
   "codemirror_mode": {
    "name": "ipython",
    "version": 3
   },
   "file_extension": ".py",
   "mimetype": "text/x-python",
   "name": "python",
   "nbconvert_exporter": "python",
   "pygments_lexer": "ipython3",
   "version": "3.10.9"
  }
 },
 "nbformat": 4,
 "nbformat_minor": 1
}
